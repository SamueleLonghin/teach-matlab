{
  "cells": [
    {
      "cell_type": "markdown",
      "id": "c497e58f-18e3-4f90-b72d-9848d52833b3",
      "metadata": {
        "id": "c497e58f-18e3-4f90-b72d-9848d52833b3"
      },
      "source": [
        "# Matlab per principianti (e per voi)"
      ]
    },
    {
      "cell_type": "markdown",
      "id": "729b9850-07e6-4208-9813-b55988b213a9",
      "metadata": {
        "id": "729b9850-07e6-4208-9813-b55988b213a9"
      },
      "source": [
        "**MATLAB** (acronimo di MATrix LABoratory)\n",
        "è un linguaggio di programmazione e un ambiente di sviluppo interattivo\n",
        "utilizzato principalmente per il calcolo numerico,\n",
        "la visualizzazione dei dati e l'analisi.\n",
        "È molto popolare in ambito scientifico, ingegneristico e industriale per\n",
        "la sua capacità di manipolare facilmente matrici e vettori,\n",
        "nonché per la sua ampia gamma di strumenti e toolbox specializzati."
      ]
    },
    {
      "cell_type": "markdown",
      "id": "5b14129c-1e1f-4e48-8fc0-2ea437a8c248",
      "metadata": {
        "id": "5b14129c-1e1f-4e48-8fc0-2ea437a8c248"
      },
      "source": [
        "## Tipi di dati"
      ]
    },
    {
      "cell_type": "markdown",
      "id": "ed7b6335",
      "metadata": {
        "id": "ed7b6335"
      },
      "source": [
        "In MATLAB, i tipi di dati rappresentano il tipo di valore che una variabile può contenere. MATLAB gestisce automaticamente la definizione dei tipi di dati in base ai valori assegnati alle variabili, il che significa che non è necessario dichiarare esplicitamente il tipo di una variabile. Di seguito sono elencati i principali tipi di dati supportati da MATLAB:\n",
        "\n",
        "1. **Numeri**: Il tipo di dato principale in MATLAB è il dato numerico. È utilizzato per memorizzare valori numerici di vario tipo. Ad esempio:\n",
        "\n",
        "   ```matlab\n",
        "   x = 3;         % Numero intero\n",
        "   x = -3;        % Numero intero\n",
        "   x = 3.1416;    % Numero reale\n",
        "   x = 6.022e23;  % Potenza di 10\n",
        "   x = 1.602e-20; % Potenza di 10\n",
        "   x = 3 + 2i     % Numero complesso\n",
        "   x = 3e5i       % Numero complesso\n",
        "   ```\n",
        "\n",
        "\n",
        "3. **Logical**: Il tipo di dati \"logical\" rappresenta valori booleani, cioè `true` o `false`. È utilizzato per valutare condizioni e controllare il flusso del programma. Ad esempio:\n",
        "\n",
        "   ```matlab\n",
        "   isTrue = true; % Variabile di tipo logical\n",
        "   ```\n",
        "\n",
        "4. **Char**: Il tipo di dato \"char\" rappresenta caratteri e stringhe. Puoi assegnare singoli caratteri o creare stringhe utilizzando apici singoli (`'`) o doppie virgolette (`\"`). Ad esempio:\n",
        "\n",
        "   ```matlab\n",
        "   lettera = 'A'; % Variabile di tipo char\n",
        "   stringa = \"Hello\"; % Variabile di tipo char (stringa)\n",
        "   ```\n",
        "\n",
        "5. **Cell**: I \"cell array\" sono strutture dati versatili in cui è possibile memorizzare dati di diversi tipi e dimensioni. Sono denotati dalle parentesi graffe `{ }`. Ad esempio:\n",
        "\n",
        "   ```matlab\n",
        "   cellArray = {3.14, 'Test', [1, 2, 3]}; % Variabile di tipo cell\n",
        "   ```\n",
        "\n",
        "6. **Struct**: Le strutture sono tipi di dati composti che consentono di organizzare variabili correlate in campi denominati. Sono denotate da parentesi graffe `{ }` con nomi di campo. Ad esempio:\n",
        "\n",
        "   ```matlab\n",
        "   persona.nome = 'Mario';\n",
        "   persona.età = 30;\n",
        "   ```"
      ]
    },
    {
      "cell_type": "markdown",
      "id": "2e9aa8be",
      "metadata": {
        "id": "2e9aa8be"
      },
      "source": [
        "### Array e Matrici\n",
        "In MATLAB, gli \"array\" e le \"matrici\" sono strutture dati fondamentali che consentono di organizzare dati in forma tabulare o multidimensionale. Vediamo come funzionano:"
      ]
    },
    {
      "cell_type": "markdown",
      "id": "7c543b76",
      "metadata": {
        "id": "7c543b76"
      },
      "source": [
        "#### Array\n",
        "\n",
        "Un \"array\" in MATLAB è una collezione di elementi omogenei, che possono essere numeri, stringhe o altri tipi di dati. Gli array possono avere una o più dimensioni. Ad esempio, puoi creare un array unidimensionale (vettore) come segue:\n",
        "\n",
        "```matlab\n",
        "vettore = [1, 2, 3, 4, 5];\n",
        "altro_vettore = [1 2 3 4 5];\n",
        "```\n",
        "\n",
        "In questo caso, `vettore` è un array unidimensionale con 5 elementi. Puoi accedere agli elementi dell'array utilizzando gli indici:\n",
        "\n",
        "```matlab\n",
        "elemento = vettore(3); % Restituisce il terzo elemento (3)\n",
        "```\n",
        "\n",
        "##### Concatenazione di array\n",
        "Per concatenare due o più array in verticale (ossia aggiungere righe), puoi utilizzare l'operatore ;\n",
        "\n",
        "```matlab\n",
        "A = [1, 2, 3];\n",
        "B = [4, 5, 6];\n",
        "C = [7, 8, 9];\n",
        "\n",
        "risultato = [A; B; C];\n",
        "```\n",
        "In questo esempio, risultato sarà un array 3x3 con i dati di A, B e C uno sopra l'altro.\n",
        "\n",
        "\n",
        "Per concatenare due o più array in orizzontale (ossia aggiungere colonne), puoi utilizzare l'operatore ,\n",
        "\n",
        "```matlab\n",
        "A = [1, 2, 3];\n",
        "B = [4, 5, 6];\n",
        "C = [7, 8, 9];\n",
        "\n",
        "risultato = [A, B, C];\n",
        "```\n",
        "In questo caso, risultato sarà un array 3x3 con i dati di A, B e C affiancati.\n"
      ]
    },
    {
      "cell_type": "markdown",
      "id": "rlThwAyZYaW0",
      "metadata": {
        "id": "rlThwAyZYaW0"
      },
      "source": [
        "#### Matrici\n"
      ]
    },
    {
      "cell_type": "markdown",
      "id": "Iof32D-xX_T9",
      "metadata": {
        "id": "Iof32D-xX_T9"
      },
      "source": [
        "Puoi anche creare array multidimensionali, come matrici bidimensionali. Ad esempio:\n",
        "\n",
        "```matlab\n",
        "matrice = [1, 2, 3; 4, 5, 6; 7, 8, 9];\n",
        "```\n",
        "\n",
        "Qui, `matrice` è una matrice 3x3 con 3 righe e 3 colonne. Puoi accedere agli elementi della matrice utilizzando gli indici della riga e della colonna:\n",
        "\n",
        "```matlab\n",
        "elemento = matrice(2, 3); % Restituisce l'elemento nella seconda riga e terza colonna (6)\n",
        "```"
      ]
    },
    {
      "cell_type": "markdown",
      "id": "fpmPjEH2YQTB",
      "metadata": {
        "id": "fpmPjEH2YQTB"
      },
      "source": [
        "##### Matrici Speciali\n",
        "  - `eye (n)` crea una matrice identità nxn\n",
        "  - `ones (n)` crea una matrice nxn i cui elementi sono uguali a 1\n",
        "  - `zeros (n)` crea una matrice nxn i cui elementi sono uguali a 0\n",
        "  - `ones (m,n)` crea una matrice mxn i cui elementi sono uguali a 1\n",
        "  - `zeros (m,n)` crea una matrice mxn i cui elementi sono uguali a 0"
      ]
    },
    {
      "cell_type": "code",
      "execution_count": null,
      "id": "4729586b",
      "metadata": {
        "id": "4729586b"
      },
      "outputs": [],
      "source": [
        "vettore = [1,2,3,4];\n",
        "altro_vettore = [1 2 3 4];\n",
        "matrice = [1,2,3;4,5,6;7,8,9];"
      ]
    },
    {
      "cell_type": "code",
      "execution_count": null,
      "id": "ec4c8269",
      "metadata": {
        "id": "ec4c8269"
      },
      "outputs": [],
      "source": [
        "matrice(2,3)"
      ]
    },
    {
      "cell_type": "code",
      "execution_count": null,
      "id": "22b1dfe8",
      "metadata": {
        "id": "22b1dfe8"
      },
      "outputs": [],
      "source": [
        "matrice(2,:)"
      ]
    },
    {
      "cell_type": "markdown",
      "id": "n0SLSX4HXum-",
      "metadata": {
        "id": "n0SLSX4HXum-"
      },
      "source": [
        "### Sequenze"
      ]
    },
    {
      "cell_type": "markdown",
      "id": "080fbf7a",
      "metadata": {
        "id": "080fbf7a"
      },
      "source": [
        "In MATLAB, una \"sequenza\" si riferisce generalmente a un elenco di valori che seguono uno schema specifico o una progressione. Le sequenze sono spesso utilizzate per generare dati o per iterare attraverso valori in modo controllato. Ecco alcuni tipi comuni di sequenze in MATLAB:\n",
        "\n",
        "- **Sequenza di Numeri Interi**: Puoi creare una sequenza di numeri interi utilizzando la funzione `start:step:end`, dove `start` è il valore iniziale, `step` è l'incremento tra i valori successivi e `end` è il valore finale. Ad esempio:\n",
        "\n",
        "   ```matlab\n",
        "   sequenza = 1:2:10; % Genera [1, 3, 5, 7, 9]\n",
        "   ```\n",
        "\n",
        "   Questo crea una sequenza di numeri interi dispari da 1 a 10 con un passo di 2.\n",
        "\n",
        "- **Sequenza di Numeri in Virgola Mobile**: Puoi generare una sequenza di numeri in virgola mobile utilizzando la funzione `linspace`, che crea una sequenza di valori uniformemente spaziati tra un valore iniziale e un valore finale. In altre parole divide l'intervallo `A`-`B` in `N` parti. Ad esempio:\n",
        "\n",
        "   ```matlab\n",
        "   sequenza = linspace(0, 1, 5); % Genera [0, 0.25, 0.5, 0.75, 1]\n",
        "   ```\n",
        "\n",
        "   Questo crea una sequenza di 5 valori tra 0 e 1.\n",
        "   Questa funzione è tendenzialmene analoga all'utilizzo di\n",
        "   ```matlab\n",
        "   sequenza = 0 : 1/4 : 1; % Genera [0, 0.25, 0.5, 0.75, 1]\n",
        "   ```\n",
        "\n",
        "- **Sequenza di Numeri Logaritmici**: E’ possibile generare un vettore logaritmicamente intervallato utilizzando il comando `logspace`, che una sequenda di `N` valori logaritmicamente distrubuiti tra `10`<sup>`A`</sup> e `10`<sup>`B`</sup>\n",
        "   ```matlab\n",
        "   sequenza = logspace(1,2,5); % Genera [10.000, 17.783, 31.623, 56.234, 100.000]\n",
        "   ```\n",
        "\n",
        "- **Sequenza di Caratteri**: Puoi creare sequenze di caratteri utilizzando l'operatore `:` in combinazione con caratteri. Ad esempio:\n",
        "\n",
        "   ```matlab\n",
        "   alfabeto = 'a':'z'; % Genera 'abcdefghijklmnopqrstuvwxyz'\n",
        "   ```\n",
        "\n",
        "   Questo crea una sequenza di caratteri dall'a alla z."
      ]
    },
    {
      "cell_type": "markdown",
      "id": "43ff01d1",
      "metadata": {
        "id": "43ff01d1"
      },
      "source": [
        "## Operatori e Funzioni"
      ]
    },
    {
      "cell_type": "markdown",
      "id": "10601610",
      "metadata": {
        "id": "10601610"
      },
      "source": [
        "### Operatori di base"
      ]
    },
    {
      "cell_type": "markdown",
      "id": "69fb5e54",
      "metadata": {
        "id": "69fb5e54"
      },
      "source": [
        "Gli \"operatori\" sono simboli speciali che vengono utilizzati per eseguire operazioni matematiche, logiche e di confronto su variabili e valori. Gli operatori consentono di eseguire una vasta gamma di operazioni, dall'aritmetica di base alla manipolazione di dati complessi.\n",
        "\n",
        "- **Operatori Aritmetici**:\n",
        "\n",
        "   - `+` (Addizione): Esegue l'addizione di due valori.\n",
        "   - `-` (Sottrazione): Esegue la sottrazione tra due valori.\n",
        "   - `*` (Moltiplicazione): Esegue la moltiplicazione tra due valori.\n",
        "   - `/` (Divisione): Esegue la divisione tra due valori.\n",
        "   - `^` (Elevamento a Potenza): Esegue l'elevamento di un valore alla potenza di un altro.\n",
        "   - `.` (Operazioni Elemento per Elemento): Aggiunto prima di un operatore aritmetico esegue l'operazione elemento per elemento su array e matrici. Verrà approfondito più avanti\n",
        "\n",
        "   Esempio:\n",
        "\n",
        "   ```matlab\n",
        "   x = 5;\n",
        "   y = 3;\n",
        "   somma = x + y;       % 8\n",
        "   differenza = x - y;  % 2\n",
        "   prodotto = x * y;    % 15\n",
        "   divisione = x / y;   % 1.6667\n",
        "   potenza = x ^ y;     % 125\n",
        "   ```\n",
        "\n",
        "- **Operatori di Confronto**:\n",
        "\n",
        "   - `==` (Uguale a): Verifica se due valori sono uguali.\n",
        "   - `~=`, `!=` (Diverso da): Verifica se due valori sono diversi.\n",
        "   - `<` (Minore di): Verifica se un valore è minore di un altro.\n",
        "   - `>` (Maggiore di): Verifica se un valore è maggiore di un altro.\n",
        "   - `<=` (Minore o uguale a): Verifica se un valore è minore o uguale a un altro.\n",
        "   - `>=` (Maggiore o uguale a): Verifica se un valore è maggiore o uguale a un altro.\n",
        "\n",
        "   Esempio:\n",
        "\n",
        "   ```matlab\n",
        "   a = 5;\n",
        "   b = 7;\n",
        "   uguale = (a == b);     % 0 (falso)\n",
        "   diverso = (a ~= b);    % 1 (vero)\n",
        "   minore = (a < b);      % 1 (vero)\n",
        "   maggiore = (a > b);    % 0 (falso)\n",
        "   minoreOuguale = (a <= b); % 1 (vero)\n",
        "   maggioreOuguale = (a >= b); % 0 (falso)\n",
        "   ```\n",
        "\n",
        "- **Operatori Logici**:\n",
        "\n",
        "   - `&&` (AND logico): Restituisce vero se entrambe le condizioni sono vere.\n",
        "   - `||` (OR logico): Restituisce vero se almeno una delle condizioni è vera.\n",
        "   - `~` (NOT logico): Inverte il valore di una condizione.\n",
        "\n",
        "   Esempio:\n",
        "\n",
        "   ```matlab\n",
        "   condizione1 = true;\n",
        "   condizione2 = false;\n",
        "   andLogico = condizione1 && condizione2;  % 0 (falso)\n",
        "   orLogico = condizione1 || condizione2;   % 1 (vero)\n",
        "   notLogico = ~condizione1;                % 0 (falso)\n",
        "   ```\n",
        "\n",
        "- **Operatori di Assegnazione**:\n",
        "\n",
        "   - `=` (Assegnazione): Assegna un valore a una variabile.\n",
        "   - `+=`, `-=`, `*=`, `/=` (Operazioni di assegnazione abbreviate): Esegue l'operazione specificata e assegna il risultato a una variabile.\n",
        "\n",
        "   Esempio:\n",
        "\n",
        "   ```matlab\n",
        "   x = 5;\n",
        "   x += 3;  % Equivalente a x = x + 3 -> risultato: 8\n",
        "   ```"
      ]
    },
    {
      "cell_type": "markdown",
      "id": "2ce9663b",
      "metadata": {
        "id": "2ce9663b"
      },
      "source": [
        "### Operazioni sugli Array e le Matrici:"
      ]
    },
    {
      "cell_type": "markdown",
      "id": "4e969813",
      "metadata": {
        "id": "4e969813"
      },
      "source": [
        "Puoi eseguire operazioni matematiche tra array e matrici, come somma, sottrazione, moltiplicazione e divisione, per eseguire calcoli su dati tabulari.\n",
        "\n",
        "- **Operazioni di Base**: Puoi eseguire operazioni elemento per elemento su array e matrici utilizzando operatori come `+`, `-`, `*`, `/`.\n",
        "\n",
        "  ```matlab\n",
        "  A = [1, 2; 3, 4];\n",
        "  B = [5, 6; 7, 8];\n",
        "  C = A + B;        % Somma tra matrici\n",
        "  D = A * B;        % Moltiplicazione tra matrici (si può fare anche con la funzione `dot`)\n",
        "  ```\n",
        "\n",
        "- **Operazioni Elemento per Elemento**: Puoi eseguire le stesse operazioni di base eseguendole elemento per elemento precedendole con l'operatore `.`\n",
        "\n",
        "  ```matlab\n",
        "    A = [1, 2; 3, 4];\n",
        "    B = [5, 6; 7, 8];\n",
        "    C = A .* B;        % Moltiplicazione elemento per elemento\n",
        "    D = A ./ B;        % Divisione elemento per elemento\n",
        "    ```\n",
        "    Ovviamente gli operatori `.+` e `.-` sono inutili perchè matematicamente la somma tra matrici viene già eseguita elemento per elemento.\n",
        "\n",
        "    Qui possiamo vedere la differenza tra `*` e `.*`\n",
        "  ```matlab\n",
        "    A = [ 1, 2;\n",
        "          3, 4];\n",
        "\n",
        "    B = [ 5, 6;\n",
        "          7, 8];\n",
        "\n",
        "    C = A * B;          % C ->  19   22\n",
        "                        %       43   50\n",
        "\n",
        "    D = A .* B;         % D ->  5    12\n",
        "                        %       21   32\n",
        "  ```\n",
        "\n",
        "- **Operazioni su Colonne o Righe**: Puoi eseguire operazioni su colonne o righe specifiche di una matrice utilizzando le funzioni `sum`, `mean`, `max`, `min`, ecc.\n",
        "\n",
        "  ```matlab\n",
        "  colonna = sum(matrice); % Somma delle colonne\n",
        "  riga = mean(matrice, 2); % Media delle righe perchè specifico di lavorare sulla \"seconda\" dimensione\n",
        "  ```\n",
        "\n",
        "- **Operazioni di Trasposizione**: Puoi trasporre una matrice utilizzando l'operatore `'` o la funzione `transpose`.\n",
        "\n",
        "  ```matlab\n",
        "  trasposta = matrice'; % Trasposizione\n",
        "  ```\n",
        "\n",
        "- **Ottenere la diagonale**: Puoi ottenere la diagonale principale con la funzione `diag`\n",
        "  ```matlab\n",
        "  diagonale = diag(matrice);  % Diagonale principale\n",
        "                              % nel caso di [1, 2; 3, 4] ottieni [1, 4]\n",
        "  ```\n",
        "\n",
        "- **Ottenere l'antidiagonale**: Per ottenere l'altra diagonale matlab non mette a disposizione una funzione nativa ma ci possiamo arrangiare spechiando la matrice e ottenendo la diagonale di questa. Per spechiare la matrice si può usare la funzione `fliplr`\n",
        "  ```matlab\n",
        "  diagonale = diag(fliplr(matrice));  % Antidiagonale  \n",
        "                                      % nel caso di [1, 2; 3, 4] ottieni [2, 3]\n",
        "  ```\n",
        "\n",
        "- **Altre operazioni su Array**:\n",
        "  - `max(x)` restituisce il valore più grande di x se x è un vettore; se x è una matrice restituisce un vettore riga i cui elementi corrispondono ai valori più grandi delle corrispondenti colonne di x\n",
        "  - `min(x)` equivalente a max(x) con la differenza che restituisce i valori più bassi\n",
        "  - `ndims(x)` restituisce il numero di dimensioni di un array\n",
        "  - `size(x)` restituisce un vettore riga con due valori [i j] uguali al numero di righe e colonne di x\n",
        "  - `length(x)` restituisce il numero degli elementi di x\n",
        "  - `sum(x)` restituisce la somma dei valori di x se x è un vettore; se x è una matrice restituisce un vettore riga i cui elementi corrispondono alla somma degli elementi di ciascuna colonna di x\n",
        "  - `sort(x)` restituisce un array della stessa dimensione di x; se x è un vettore, ordina gli elementi in senso crescente; se x è una matrice, ordina ogni singola colonna\n",
        "  - `dot(x,y)` restituisce il prodotto scalare tra le due matrici. come se venisse eseguito x * y"
      ]
    },
    {
      "cell_type": "markdown",
      "id": "dcec422a",
      "metadata": {
        "id": "dcec422a"
      },
      "source": [
        "### Funzioni messe a disposizione"
      ]
    },
    {
      "cell_type": "markdown",
      "id": "27624d9c",
      "metadata": {
        "id": "27624d9c"
      },
      "source": [
        "MATLAB offre una vasta gamma di funzioni matematiche integrate per eseguire operazioni matematiche comuni e avanzate. Di seguito, elenco alcune delle funzioni matematiche più comuni disponibili in MATLAB:\n",
        "- **Aritmetica**:\n",
        "  - `abs` - Valore assoluto.\n",
        "  - `sqrt` - Radice quadrata.\n",
        "  - `exp` - Esponenziale.\n",
        "  - `log` - Logaritmo naturale.\n",
        "  - `log10` - Logaritmo base 10.\n",
        "  - `power` - Potenza.\n",
        "  - `floor` - Arrotonda verso il basso.\n",
        "  - `ceil` - Arrotonda verso l'alto.\n",
        "  - `round` - Arrotonda al numero intero più vicino.\n",
        "  \n",
        "- **Trigonometria**:\n",
        "  - `sin` - Seno.\n",
        "  - `cos` - Coseno.\n",
        "  - `tan` - Tangente.\n",
        "  - `asin` - Arco seno.\n",
        "  - `acos` - Arco coseno.\n",
        "  - `atan` - Arco tangente.\n",
        "  - `sind` - Seno in gradi.\n",
        "  - `cosd` - Coseno in gradi.\n",
        "  - `tand` - Tangente in gradi.\n",
        "  - `sec` - Secante.\n",
        "  - `csc` - Cosecante.\n",
        "  - `cot` - Cotangente.\n",
        "  - `secd` - Secante in gradi.\n",
        "  - `cscd` - Cosecante in gradi.\n",
        "  - `cotd` - Cotangente in gradi.\n",
        "\n",
        "- **Iperboliche**:\n",
        "  - `sinh` - Seno iperbolico.\n",
        "  - `cosh` - Coseno iperbolico.\n",
        "  - `tanh` - Tangente iperbolica.\n",
        "  - `asinh` - Arco seno iperbolico.\n",
        "  - `acosh` - Arco coseno iperbolico.\n",
        "  - `atanh` - Arco tangente iperbolica.\n",
        "\n",
        "- **Funzioni Logiche**:\n",
        "  - `and` - AND logico.\n",
        "  - `or` - OR logico.\n",
        "  - `xor` - XOR logico.\n",
        "  - `not` - NOT logico.\n",
        "\n",
        "- **Algebra Lineare**:\n",
        "  - `det` - Determinante di una matrice.\n",
        "  - `inv` - Inverso di una matrice.\n",
        "  - `eig` - Autovalori e autovettori.\n",
        "  - `svd` - Decomposizione ai valori singolari.\n",
        "  - `lu` - Decomposizione LU.\n",
        "\n",
        "- **Statistica e Probabilità**:\n",
        "  - `mean` - Media.\n",
        "  - `median` - Mediana.\n",
        "  - `std` - Deviazione standard.\n",
        "  - `var` - Varianza.\n",
        "  - `hist` - Istogramma.\n",
        "  - `normpdf` - Funzione di densità di probabilità normale.\n",
        "\n",
        "- **Altre Funzioni Matematiche Speciali**:\n",
        "  - `factorial` - Fattoriale.\n",
        "  - `gcd` - Massimo comun divisore.\n",
        "  - `lcm` - Minimo comune multiplo.\n",
        "  - `besselj` - Funzioni di Bessel di prima specie.\n",
        "  - `gamma` - Funzione gamma."
      ]
    },
    {
      "cell_type": "markdown",
      "id": "bERxZ3ZPbW26",
      "metadata": {
        "id": "bERxZ3ZPbW26"
      },
      "source": [
        "## Input / Output"
      ]
    },
    {
      "cell_type": "markdown",
      "id": "SVR98vmWbgIj",
      "metadata": {
        "id": "SVR98vmWbgIj"
      },
      "source": [
        "#### Output\n",
        "Per visualizzare risultati, messaggi o dati nel prompt dei comandi MATLAB, puoi utilizzare la funzione `disp` o semplicemente scrivere l'output direttamente nel prompt. Ad esempio:\n",
        "\n",
        "```matlab\n",
        "% Utilizzo della funzione disp\n",
        "disp('Questo è un messaggio di output.');\n",
        "\n",
        "% Scrittura diretta nell'output\n",
        "x = 42;\n",
        "x % Visualizza il valore di x nel prompt\n",
        "```\n",
        "##### Stampa formattata\n",
        "La funzione `fprintf` in MATLAB viene utilizzata per formattare e scrivere dati su un file o su uno stream di output. La sua sintassi di base è la seguente:\n",
        "\n",
        "```matlab\n",
        "fprintf(formatSpec, A)\n",
        "```\n",
        "Dove:\n",
        "\n",
        "- `formatSpec` è una stringa di formattazione che definisce come i dati dovrebbero essere formattati.\n",
        "  Possono essere formattati usando i seguenti segnaposto:\n",
        "  - `%s`: Formattare e scrivere stringhe di testo.\n",
        "  - `%d`: Formattare e scrivere interi decimali.\n",
        "  - `%f`: Formattare e scrivere numeri in virgola mobile.\n",
        "  - `%e` o `%E`: Formattare e scrivere numeri in notazione scientifica.\n",
        "  - `%g` o `%G`: Formattare e scrivere numeri in notazione compatta.\n",
        "  - `%c`: Formattare e scrivere un singolo carattere.\n",
        "  - `%u`: Formattare e scrivere interi non negativi senza segno.\n",
        "  - `%x` o `%X`: Formattare e scrivere numeri esadecimali.\n",
        "\n",
        "Questi specificatori di formato consentono di controllare come i dati vengono formattati e scritti all'interno del testo di output. Puoi personalizzare ulteriormente la formattazione specificando la larghezza del campo, il numero di cifre decimali e altri dettagli di formattazione secondo le tue esigenze.\n",
        "\n",
        "- `A` è l'elenco di dati da scrivere.\n",
        "\n",
        "Quando utilizzi `fprintf`, puoi specificare il numero di cifre decimali desiderate con il seguente formato:\n",
        "```matlab\n",
        "fprintf('%.nf', valore);\n",
        "```\n",
        "Dove `n` rappresenta il numero di cifre decimali che desideri visualizzare. Ecco un esempio:\n"
      ]
    },
    {
      "cell_type": "markdown",
      "id": "XDtHn_AUhhoL",
      "metadata": {
        "id": "XDtHn_AUhhoL"
      },
      "source": [
        "\n",
        "\n",
        "#### Input\n",
        "**Input da Tastiera**:\n",
        "Per acquisire input dall'utente tramite tastiera, puoi utilizzare la funzione `input`. Ad esempio:\n",
        "\n",
        "```matlab\n",
        "name = input('Inserisci il tuo nome: ');\n",
        "disp(['Ciao ',nome]);\n",
        "```"
      ]
    },
    {
      "cell_type": "markdown",
      "id": "f51a3c64",
      "metadata": {},
      "source": [
        "## Controllo di flusso\n",
        "Arriveranno a breve... molto breve"
      ]
    },
    {
      "cell_type": "markdown",
      "id": "41556767",
      "metadata": {
        "id": "41556767"
      },
      "source": [
        "## Grafici\n",
        "Arriveranno a breve"
      ]
    }
  ],
  "metadata": {
    "colab": {
      "provenance": [],
      "toc_visible": true
    },
    "kernelspec": {
      "display_name": "Octave",
      "language": "octave",
      "name": "octave"
    },
    "language_info": {
      "file_extension": ".m",
      "help_links": [
        {
          "text": "GNU Octave",
          "url": "https://www.gnu.org/software/octave/support.html"
        },
        {
          "text": "Octave Kernel",
          "url": "https://github.com/Calysto/octave_kernel"
        },
        {
          "text": "MetaKernel Magics",
          "url": "https://metakernel.readthedocs.io/en/latest/source/README.html"
        }
      ],
      "mimetype": "text/x-octave",
      "name": "octave",
      "version": "8.3.0"
    }
  },
  "nbformat": 4,
  "nbformat_minor": 5
}
